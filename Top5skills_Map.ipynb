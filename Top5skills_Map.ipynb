{
 "cells": [
  {
   "cell_type": "code",
   "execution_count": 1,
   "metadata": {
    "collapsed": false
   },
   "outputs": [],
   "source": [
    "import pandas as pd\n",
    "import plotly.plotly as py"
   ]
  },
  {
   "cell_type": "code",
   "execution_count": null,
   "metadata": {
    "collapsed": true
   },
   "outputs": [],
   "source": [
    "%load_ext sql\n",
    "%sql sqlite://\n",
    "%config SqlMagic.feedback = False #to turn off sqlite reports"
   ]
  },
  {
   "cell_type": "code",
   "execution_count": null,
   "metadata": {
    "collapsed": true
   },
   "outputs": [],
   "source": [
    "## Load csv files into SQL via pandas #\n",
    " # All raw data save to table ALLPOST ##\n",
    "import pandas as pd\n",
    "location_list=[\"Toronto_ON\", \"Montreal_QC\", \"Vancouver_BC\", \"Waterloo_ON\", \"New-York_NY\", \"Boston_MA\", \"Washington_DC\", \n",
    "               \"Seattle_WA\", \"San-Francisco_CA\", \"Austin_TX\", \"San-Jose_CA\", \"Raleigh_NC\", \"Houston_TX\", \"Portland_OR\", \n",
    "               \"Atlanta_GA\", \"San-Diego_CA\", \"Denver_CO\", \"Minneapolis_MN\", \"Saint-Louis_MO\"]\n",
    "%sql DROP TABLE IF EXISTS ALLPOST\n",
    "%sql CREATE TABLE ALLPOST (keyword varchar, location varchar, link varchar, post_text varchar)\n",
    "for location in location_list:\n",
    "    df = pd.read_csv(\"D:\\monster_scrapingdata\\softdev_\" + location + \"_20170116.csv\", sep='\\t', header=0, index_col=0)\n",
    "    %sql DROP TABLE IF EXISTS df\n",
    "    %sql PERSIST df\n",
    "    %sql INSERT INTO ALLPOST SELECT keyword, location, link, post_text FROM df "
   ]
  },
  {
   "cell_type": "code",
   "execution_count": null,
   "metadata": {
    "collapsed": true
   },
   "outputs": [],
   "source": [
    "techlist=[\"javascript\",\"sql\", 'java', 'c#', 'php', 'c++', 'c', 'node.js', 'angularjs', 'ruby', 'rails', 'python',\n",
    "          'delphi', 'typescript', 'bash', 'groovy', 'powershell', 'html', 'css', 'django','postgresql', 'jquery', 'ios', 'git', \n",
    "          'mysql', '.net', 'arrays', 'swift', 'objective-c', 'string', 'json', 'sql server', 'linux', 'regex', 'asp.net', \n",
    "         'react', 'spark', 'cassandra', 'raspberry pi', 'wordpress', 'mongodb', 'redis', 'vba', 'hadoop', 'clojure',\"visual basic\",\n",
    "          'f#', 'sharepoint', 'rust', 'scala', 'cordova', 'perl', 'salesforce', 'matlab', 'dart', 'coffeescript',\n",
    "         'haskell', 'windows phone', 'aws', 'gae', 'azure', 'lamp', \"lua\", \"drupal\", \"elixir\", \"fortran\", \"erlang\", \"pl/sql\", \n",
    "         \"elasticsearch\", \"coldfusion\", \"kotlin\", \"smalltalk\", \"abap\", \"elm\", \"r\", \"cloud\", \"sas\", \"d3\", \"spss\",\n",
    "         \"excel\", \"tableau\", \"pig\", \"mapreduce\", \"hive\", \"shark\", \"oozie\", \"zookeeper\", \"flume\", \"mahout\", \"android\"]"
   ]
  },
  {
   "cell_type": "code",
   "execution_count": null,
   "metadata": {
    "collapsed": false
   },
   "outputs": [],
   "source": [
    "## Create Topskills for each location ##\n",
    "## Output in csv ##\n",
    "\n",
    "topskill=[]\n",
    "for location in location_list:\n",
    "    citycount=%sql SELECT Count(*) FROM ALLPOST WHERE location = :location\n",
    "    for tech in techlist:\n",
    "        acount=%sql SELECT Count(*) FROM ALLPOST WHERE location = :location AND (post_text LIKE \"%,$tech,%\" OR post_text LIKE \"$tech,%\" OR post_text LIKE \"%,$tech\")\n",
    "        topskill.append((location, tech, acount[0][0], acount[0][0]/citycount[0][0]))   \n",
    "    print (\"done\" + location )\n",
    "df_csv = pd.DataFrame(topskill, columns=[ \"location\", \"skill\", \"posting\", \"percentage\"])\n",
    "df_csv.to_csv(r\"D:\\Data Incubator\\capstone_project\\topskill.csv\", sep='\\t', index=False, encoding='utf-8')"
   ]
  },
  {
   "cell_type": "code",
   "execution_count": null,
   "metadata": {
    "collapsed": false
   },
   "outputs": [],
   "source": [
    "##Top 5 skills to csv ##\n",
    "\n",
    "dftop5=df_csv.sort_values(\"posting\", ascending= False).groupby(\"location\").head(5).sort_values([\"location\", \"posting\"], ascending = False)\n",
    "dftop5.to_csv(r\"D:\\Data Incubator\\capstone_project\\topfiveskill.csv\", sep='\\t', index=False, encoding='utf-8')"
   ]
  },
  {
   "cell_type": "code",
   "execution_count": 3,
   "metadata": {
    "collapsed": false
   },
   "outputs": [],
   "source": [
    "lonlat_list=[(\"Waterloo_ON\", 43.4643, -80.5204), (\"Washington_DC\", 38.930176, -77.070503),(\"Vancouver_BC\", 49.246292, -123.116226), \n",
    "(\"Toronto_ON\", 43.653908, -79.384293), (\"Seattle_WA\", 47.608013, -122.335167), (\"San-Jose_CA\", 37.363949, -121.928940), \n",
    " (\"San-Francisco_CA\", 37.733795, -122.446747), (\"San-Diego_CA\", 32.715736, -117.161087), (\"Saint-Louis_MO\", 38.641884, -90.254845),\n",
    "(\"Raleigh_NC\", 35.787743, -78.644257), (\"Portland_OR\", 45.523064, -122.676483), (\"New-York_NY\", 40.785091, -73.968285),\n",
    "(\"Montreal_QC\", 45.537258, -73.629768), (\"Minneapolis_MN\", 44.986656, -93.258133), (\"Houston_TX\", 29.766083, -95.358810),\n",
    "(\"Denver_CO\", 39.742043, -104.991531), (\"Boston_MA\", 42.359215, -71.049149), (\"Austin_TX\", 30.266926, -97.750519),\n",
    "(\"Atlanta_GA\", 33.753746, -84.386330)]"
   ]
  },
  {
   "cell_type": "code",
   "execution_count": 44,
   "metadata": {
    "collapsed": false,
    "scrolled": false
   },
   "outputs": [
    {
     "data": {
      "text/html": [
       "<script>requirejs.config({paths: { 'plotly': ['https://cdn.plot.ly/plotly-latest.min']},});if(!window.Plotly) {{require(['plotly'],function(plotly) {window.Plotly=plotly;});}}</script>"
      ],
      "text/plain": [
       "<IPython.core.display.HTML object>"
      ]
     },
     "metadata": {},
     "output_type": "display_data"
    },
    {
     "data": {
      "text/html": [
       "<div id=\"6241fa99-745d-4b26-b0a8-716cce915ba2\" style=\"height: 525px; width: 100%;\" class=\"plotly-graph-div\"></div><script type=\"text/javascript\">require([\"plotly\"], function(Plotly) { window.PLOTLYENV=window.PLOTLYENV || {};window.PLOTLYENV.BASE_URL=\"https://plot.ly\";Plotly.newPlot(\"6241fa99-745d-4b26-b0a8-716cce915ba2\", [{\"lat\": [43.4643, 38.930176, 49.246292, 43.653908, 47.608013, 37.363949, 37.733795, 32.715736, 38.641884, 35.787743, 45.523064, 40.785091, 45.537258, 44.986656, 29.766083, 39.742043, 42.359215, 30.266926, 33.753746], \"lon\": [-80.5204, -77.070503, -123.116226, -79.384293, -122.335167, -121.92894, -122.446747, -117.161087, -90.254845, -78.644257, -122.676483, -73.968285, -73.629768, -93.258133, -95.35881, -104.991531, -71.049149, -97.750519, -84.38633], \"marker\": {\"color\": \"rgb(90, 120, 245)\", \"line\": {\"color\": \"rgba(102, 102, 102)\", \"width\": 1}, \"reversescale\": true, \"symbol\": \"square\", \"size\": 10, \"opacity\": 0.7}, \"name\": \"Major Tech City\", \"text\": [\"<b>Waterloo_ON</b><br>java 162 28.0%<br>c 142 24.5%<br>sql 111 19.2%<br>android 91 15.7%<br>javascript 87 15.0%\", \"<b>Washington_DC</b><br>java 313 31.9%<br>sql 291 29.7%<br>c 234 23.9%<br>javascript 200 20.4%<br>cloud 195 19.9%\", \"<b>Vancouver_BC</b><br>c 335 33.5%<br>java 333 33.3%<br>cloud 241 24.1%<br>javascript 219 21.9%<br>sql 211 21.1%\", \"<b>Toronto_ON</b><br>java 399 39.9%<br>c 299 29.9%<br>javascript 261 26.1%<br>sql 249 24.9%<br>cloud 221 22.1%\", \"<b>Seattle_WA</b><br>java 762 77.8%<br>c++ 674 68.8%<br>c 650 66.4%<br>linux 353 36.1%<br>aws 332 33.9%\", \"<b>San-Jose_CA</b><br>c 265 27.1%<br>java 250 25.5%<br>cloud 182 18.6%<br>python 181 18.5%<br>linux 160 16.3%\", \"<b>San-Francisco_CA</b><br>c 249 25.4%<br>cloud 218 22.2%<br>java 201 20.5%<br>python 145 14.8%<br>sql 141 14.4%\", \"<b>San-Diego_CA</b><br>java 469 47.9%<br>c 442 45.1%<br>linux 380 38.8%<br>javascript 342 34.9%<br>sql 297 30.3%\", \"<b>Saint-Louis_MO</b><br>java 336 34.3%<br>sql 318 32.5%<br>c 312 31.9%<br>.net 216 22.1%<br>cloud 167 17.1%\", \"<b>Raleigh_NC</b><br>java 477 48.7%<br>c 370 37.8%<br>sql 320 32.7%<br>.net 295 30.1%<br>javascript 237 24.2%\", \"<b>Portland_OR</b><br>java 355 36.2%<br>c 330 33.7%<br>.net 272 27.8%<br>cloud 229 23.4%<br>sql 197 20.1%\", \"<b>New-York_NY</b><br>java 310 31.7%<br>c 246 25.2%<br>sql 238 24.4%<br>javascript 162 16.6%<br>.net 162 16.6%\", \"<b>Montreal_QC</b><br>java 536 53.6%<br>c 465 46.5%<br>.net 346 34.6%<br>sql 304 30.4%<br>c++ 227 22.7%\", \"<b>Minneapolis_MN</b><br>java 192 19.7%<br>c 186 19.1%<br>sql 185 19.0%<br>cloud 130 13.3%<br>excel 114 11.7%\", \"<b>Houston_TX</b><br>c 349 35.8%<br>sql 276 28.3%<br>.net 242 24.8%<br>java 222 22.8%<br>javascript 150 15.4%\", \"<b>Denver_CO</b><br>java 472 48.5%<br>c 361 37.1%<br>sql 300 30.8%<br>cloud 261 26.8%<br>javascript 259 26.6%\", \"<b>Boston_MA</b><br>c 236 24.2%<br>java 214 21.9%<br>javascript 199 20.4%<br>sql 187 19.2%<br>.net 147 15.1%\", \"<b>Austin_TX</b><br>java 442 45.1%<br>c 324 33.1%<br>javascript 299 30.5%<br>sql 280 28.6%<br>cloud 255 26.0%\", \"<b>Atlanta_GA</b><br>java 284 29.1%<br>sql 267 27.4%<br>c 244 25.0%<br>cloud 193 19.8%<br>javascript 165 16.9%\"], \"type\": \"scattergeo\"}], {\"legend\": {\"font\": {\"size\": 12}, \"y\": 0.05, \"x\": 0.75}, \"showlegend\": true, \"geo\": {\"showland\": true, \"showlakes\": true, \"showcountries\": true, \"lakecolor\": \"rgb(255, 255, 255)\", \"projection\": {\"rotation\": {\"lon\": -100}, \"type\": \"Kavrayskiy7\"}, \"showsubunits\": true, \"subunitcolor\": \"rgb(253, 242, 233)\", \"landcolor\": \"rgb(212, 212, 212)\", \"resolution\": 50, \"lataxis\": {\"showgrid\": true, \"range\": [25.0, 50.0], \"gridwidth\": 0.5, \"dtick\": 5}, \"lonaxis\": {\"showgrid\": true, \"range\": [-127.0, -65.0], \"gridwidth\": 0.5, \"dtick\": 5}, \"scope\": \"north america\", \"countrycolor\": \"rgb(250, 229, 211)\"}, \"title\": \"Top Skills for Major Cities<br>(Hover for details)\"}, {\"showLink\": true, \"linkText\": \"Export to plot.ly\"})});</script>"
      ],
      "text/plain": [
       "<IPython.core.display.HTML object>"
      ]
     },
     "metadata": {},
     "output_type": "display_data"
    }
   ],
   "source": [
    "## plotly map plot ##\n",
    "from plotly.offline import download_plotlyjs, init_notebook_mode, plot, iplot\n",
    "init_notebook_mode(connected=True)\n",
    "\n",
    "\n",
    "df_fig= pd.read_csv(r\"D:\\Data Incubator\\capstone_project\\topfiveskill.csv\", sep='\\t', encoding='utf-8')\n",
    "\n",
    "grplist=list(df_fig.groupby(\"location\",sort=False))\n",
    "txts = [ \"<br>\".join([\"%s %d %.1f%%\" % (skill, posting, (percentage)*100) for skill, posting, percentage in \n",
    "                      df[[\"skill\", \"posting\", \"percentage\"]].itertuples(index=False)]) for location, df in grplist]\n",
    "citynames = [x[0] for x in lonlat_list]\n",
    "final_txts = [\"<b>\" + city + \"</b><br>\" + txt for txt, city in zip(txts, citynames)]\n",
    "data = [ dict(\n",
    "    lat = [x[1] for x in lonlat_list],\n",
    "    lon = [x[2] for x in lonlat_list],\n",
    "    text = final_txts,\n",
    "    marker = dict(\n",
    "        color = \"rgb(90, 120, 245)\",\n",
    "        reversescale = True,\n",
    "        opacity = 0.7,\n",
    "        size = 10,   \n",
    "        symbol = 'square',\n",
    "        line = dict(\n",
    "            width=1,\n",
    "            color='rgba(102, 102, 102)')),\n",
    "    type = 'scattergeo', name='Major Tech City'\n",
    ") ]\n",
    "\n",
    "\n",
    "layout = dict(\n",
    "        title = \"Top Skills for Major Cities<br>(Hover for details)\",   \n",
    "        geo = dict(scope = 'north america',\n",
    "                   showland = True, landcolor = \"rgb(212, 212, 212)\",\n",
    "                    subunitcolor = \"rgb(253, 242, 233)\",\n",
    "                    countrycolor = \"rgb(250, 229, 211)\",\n",
    "                    showlakes = True, lakecolor = \"rgb(255, 255, 255)\",\n",
    "                    showsubunits = True, showcountries = True,\n",
    "                   resolution = 50,\n",
    "                    projection = dict(type = 'Kavrayskiy7', rotation = dict(lon = -100)),\n",
    "                    lonaxis = dict(showgrid = True, gridwidth = 0.5, range= [ -127.0, -65.0 ], dtick = 5),\n",
    "                    lataxis = dict(showgrid = True, gridwidth = 0.5, range= [ 25.0, 50.0 ], dtick = 5)),\n",
    "        showlegend=True, legend=dict(x=0.75, y=0.05, font=dict(size=12)))\n",
    "\n",
    "fig = dict( data=data, layout=layout )\n",
    "iplot( fig, validate=False, filename=\"top5skillmap\" )"
   ]
  },
  {
   "cell_type": "code",
   "execution_count": null,
   "metadata": {
    "collapsed": true
   },
   "outputs": [],
   "source": []
  }
 ],
 "metadata": {
  "anaconda-cloud": {},
  "kernelspec": {
   "display_name": "Python [Root]",
   "language": "python",
   "name": "Python [Root]"
  },
  "language_info": {
   "codemirror_mode": {
    "name": "ipython",
    "version": 3
   },
   "file_extension": ".py",
   "mimetype": "text/x-python",
   "name": "python",
   "nbconvert_exporter": "python",
   "pygments_lexer": "ipython3",
   "version": "3.5.2"
  }
 },
 "nbformat": 4,
 "nbformat_minor": 0
}
