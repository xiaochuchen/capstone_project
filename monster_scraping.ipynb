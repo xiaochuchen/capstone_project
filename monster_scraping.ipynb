{
 "cells": [
  {
   "cell_type": "code",
   "execution_count": null,
   "metadata": {
    "collapsed": true
   },
   "outputs": [],
   "source": [
    "import requests\n",
    "from bs4 import BeautifulSoup\n",
    "from datetime import datetime\n",
    "from collections import Counter\n",
    "import re\n",
    "from time import sleep\n",
    "import pandas as pd"
   ]
  },
  {
   "cell_type": "code",
   "execution_count": null,
   "metadata": {
    "collapsed": false
   },
   "outputs": [],
   "source": [
    "def text_cleaner(text_url):\n",
    "    headers = requests.utils.default_headers()\n",
    "    headers.update(\n",
    "        {\n",
    "            'User-Agent': 'Mozilla/5.0 (Windows NT 10.0; WOW64) AppleWebKit/537.36 (KHTML, like Gecko) Chrome/55.0.2883.87 Safari/537.36',\n",
    "        }\n",
    "    )\n",
    "    txtpg_response = requests.get(text_url, headers=headers)\n",
    "    page_soup=BeautifulSoup(txtpg_response.text, 'html.parser')\n",
    "    for script in page_soup([\"style\", \"script\"]):\n",
    "        script.extract()\n",
    "    text = page_soup.get_text()\n",
    "    lines = (line.strip() for line in text.splitlines())\n",
    "    chunks = (phrase.strip() for line in lines for phrase in line.split(\"  \"))\n",
    "    def chunk_space(chunk):\n",
    "        chunk_out = chunk + ' '\n",
    "        return chunk_out      \n",
    "    text = ''.join(chunk_space(chunk) for chunk in chunks if chunk).encode('utf-8')\n",
    "    try:\n",
    "        text = text.decode('unicode_escape').encode('ascii', 'ignore') \n",
    "    except:                                                            \n",
    "        return\n",
    "    text = re.sub(b\"[^a-zA-Z.+3]\",b\" \", text)\n",
    "    text = text.lower().decode(\"utf-8\").split()\n",
    "    text = list(set(text))\n",
    "    return text"
   ]
  },
  {
   "cell_type": "code",
   "execution_count": null,
   "metadata": {
    "collapsed": false,
    "scrolled": true
   },
   "outputs": [],
   "source": [
    "def postings_for_location(keyword, location):\n",
    "    base_url=\"http://www.monster.ca/jobs/search/\"\n",
    "    paramslist={'q': keyword, 'where': location}\n",
    "    job_postings=[]\n",
    "    headers = requests.utils.default_headers()\n",
    "    headers.update(\n",
    "        {\n",
    "            'User-Agent': 'Mozilla/5.0 (Windows NT 10.0; WOW64) AppleWebKit/537.36 (KHTML, like Gecko) Chrome/55.0.2883.87 Safari/537.36',\n",
    "        }\n",
    "    )\n",
    "\n",
    "    response = requests.get(base_url, params=paramslist, headers = headers)\n",
    "    while (response):\n",
    "        print(\"collecting information from:\" + response.url)\n",
    "        soup = BeautifulSoup(response.text, 'html.parser')\n",
    "        nextpage_results= soup.select('link[rel=next]')\n",
    "        if nextpage_results:\n",
    "            response = requests.get(nextpage_results[0]['href'], headers=headers)\n",
    "        else:\n",
    "            response=\"\"\n",
    "\n",
    "        all_rows = soup.select('div[class=\"jobTitle\"] a')\n",
    "        for row in all_rows:\n",
    "            link = row[\"href\"]\n",
    "            print(link)\n",
    "            job_postings.append(text_cleaner(link))\n",
    "        sleep(2)\n",
    "    return job_postings"
   ]
  },
  {
   "cell_type": "code",
   "execution_count": null,
   "metadata": {
    "collapsed": true
   },
   "outputs": [],
   "source": [
    "def raw_postings(keyword, location):\n",
    "    base_url=\"https://www.monster.com/jobs/search/\"\n",
    "    paramslist={'q': keyword, 'where': location}\n",
    "    job_postings=[]\n",
    "    headers = requests.utils.default_headers()\n",
    "    headers.update(\n",
    "        {\n",
    "            'User-Agent': 'Mozilla/5.0 (Windows NT 10.0; WOW64) AppleWebKit/537.36 (KHTML, like Gecko) Chrome/55.0.2883.87 Safari/537.36',\n",
    "        }\n",
    "    )\n",
    "\n",
    "    response = requests.get(base_url, params=paramslist, headers = headers)\n",
    "    while (response):\n",
    "        print(\"collecting information from:\" + response.url)\n",
    "        soup = BeautifulSoup(response.text, 'html.parser')\n",
    "        nextpage_results= soup.select('link[rel=next]')\n",
    "        if nextpage_results:\n",
    "            response = requests.get(nextpage_results[0]['href'], headers=headers)\n",
    "        else:\n",
    "            response=\"\"\n",
    "\n",
    "        all_rows = soup.select('div[class=\"jobTitle\"] a')\n",
    "        for row in all_rows:\n",
    "            try:\n",
    "                link = row[\"href\"]\n",
    "                print (link)\n",
    "                post_text=\",\".join(text_cleaner(link))\n",
    "                job_postings.append((keyword, location, link, post_text))\n",
    "            except:\n",
    "                continue\n",
    "        sleep(2)\n",
    "    df = pd.DataFrame.from_records(job_postings, columns=[\"keyword\", \"location\", \"link\", \"post_text\"])\n",
    "    return df"
   ]
  },
  {
   "cell_type": "code",
   "execution_count": null,
   "metadata": {
    "collapsed": false,
    "scrolled": true
   },
   "outputs": [],
   "source": [
    "toronto_postings = raw_postings(\"Software-Development\", 'Toronto,-Ontario')"
   ]
  },
  {
   "cell_type": "code",
   "execution_count": null,
   "metadata": {
    "collapsed": false
   },
   "outputs": [],
   "source": [
    "toronto_postings.to_csv(r\"D:\\monster_scrapingdata\\softdev_to_20170116.csv\", sep='\\t', encoding='utf-8')"
   ]
  },
  {
   "cell_type": "code",
   "execution_count": null,
   "metadata": {
    "collapsed": false
   },
   "outputs": [],
   "source": [
    "toronto_postings.shape"
   ]
  },
  {
   "cell_type": "code",
   "execution_count": null,
   "metadata": {
    "collapsed": false
   },
   "outputs": [],
   "source": [
    "mtl_postings = raw_postings(\"Software-Development\", 'Montreal,-QC')"
   ]
  },
  {
   "cell_type": "code",
   "execution_count": null,
   "metadata": {
    "collapsed": false
   },
   "outputs": [],
   "source": [
    "mtl_postings.to_csv(r\"D:\\monster_scrapingdata\\softdev_mtl_20170116.csv\", sep='\\t', encoding='utf-8')"
   ]
  },
  {
   "cell_type": "code",
   "execution_count": null,
   "metadata": {
    "collapsed": false
   },
   "outputs": [],
   "source": [
    "Vancouver_postings= raw_postings(\"Software-Development\", 'Vancouver,-BC')"
   ]
  },
  {
   "cell_type": "code",
   "execution_count": null,
   "metadata": {
    "collapsed": false
   },
   "outputs": [],
   "source": [
    "Vancouver_postings.to_csv(r\"D:\\monster_scrapingdata\\softdev_vcv_20170116.csv\", sep='\\t', encoding='utf-8')"
   ]
  },
  {
   "cell_type": "code",
   "execution_count": null,
   "metadata": {
    "collapsed": false,
    "scrolled": true
   },
   "outputs": [],
   "source": [
    "Waterloo_postings = raw_postings(\"Software-Development\", 'Waterloo,-Ontario')"
   ]
  },
  {
   "cell_type": "code",
   "execution_count": null,
   "metadata": {
    "collapsed": false
   },
   "outputs": [],
   "source": [
    "Waterloo_postings.to_csv(r\"D:\\monster_scrapingdata\\softdev_wtl_20170116.csv\", sep='\\t', encoding='utf-8')"
   ]
  },
  {
   "cell_type": "code",
   "execution_count": null,
   "metadata": {
    "collapsed": false
   },
   "outputs": [],
   "source": [
    "import sys\n",
    "location_list=[\"New-York_NY\", \"Boston_MA\", \"Washington_DC\", \"Seattle_WA\", \"San-Francisco_CA\", \"Austin_TX\", \n",
    "               \"San-Jose_CA\", \"Raleigh_NC\", \"Houston_TX\", \"Portland_OR\", \"Atlanta_GA\", \"San-Diego_CA\", \"Denver_CO\", \n",
    "               \"Minneapolis_MN\", \"Saint-Louis_MO\"]\n",
    "for location in location_list:\n",
    "    print (\"start location %s\" %location)\n",
    "    try:\n",
    "        location_postings = raw_postings(\"Software-Development\", location)\n",
    "        location_postings.to_csv(r\"D:\\monster_scrapingdata\\softdev_\" + location +\"_20170116.csv\", sep='\\t', encoding='utf-8')\n",
    "    except Exception as e:\n",
    "        print (\"fail %s\" %location)\n",
    "        print(sys.exc_info()[0])\n",
    "    sleep(300)"
   ]
  },
  {
   "cell_type": "code",
   "execution_count": 119,
   "metadata": {
    "collapsed": false
   },
   "outputs": [],
   "source": [
    "techlist=[\"javascript\",\"sql\", 'java', 'c#', 'php', 'c++', 'c', 'node.js', 'angularjs', 'ruby', 'rails', 'python', \n",
    "          'delphi', 'typescript', 'bash', 'groovy', 'powershell', 'html', 'css', 'django','postgresql', 'jquery', 'ios', 'git', \n",
    "          'mysql', '.net', 'arrays', 'swift', 'objective-c', 'string', 'json', 'sql server', 'linux', 'regex', 'asp.net' \n",
    "         'react', 'spark', 'cassandra', 'raspberry pi', 'wordpress', 'mongodb', 'redis', 'vba', 'hadoop', 'clojure'\n",
    "         'go', 'f#', 'sharepoint', 'rust', 'scala', 'count', 'cordova', 'perl', 'salesforce', 'matlab', 'dart', 'coffeescript',\n",
    "         'haskell', 'windows phone', 'aws', 'gae', 'azure', 'lamp']\n",
    "\n",
    "def build_dic(postings):\n",
    "    techdic={}\n",
    "    for tech in techlist:\n",
    "        techdic[tech] = 0\n",
    "\n",
    "    for jobtech in postings:\n",
    "        for tech in techlist:\n",
    "            if bytearray(tech, \"ascii\") in jobtech:\n",
    "                techdic[tech] += 1\n",
    "    return techdic"
   ]
  },
  {
   "cell_type": "code",
   "execution_count": null,
   "metadata": {
    "collapsed": true
   },
   "outputs": [],
   "source": [
    "toronto_dic = build_dic(toronto_postings)"
   ]
  },
  {
   "cell_type": "code",
   "execution_count": null,
   "metadata": {
    "collapsed": true
   },
   "outputs": [],
   "source": [
    "mtl_dic = build_dic(mtl_postings)"
   ]
  },
  {
   "cell_type": "code",
   "execution_count": null,
   "metadata": {
    "collapsed": false
   },
   "outputs": [],
   "source": [
    "chart(toronto_dic, \"Toronto\")"
   ]
  },
  {
   "cell_type": "code",
   "execution_count": null,
   "metadata": {
    "collapsed": false
   },
   "outputs": [],
   "source": [
    "chart(mtl_dic, \"Montreal\")"
   ]
  },
  {
   "cell_type": "code",
   "execution_count": 1,
   "metadata": {
    "collapsed": false
   },
   "outputs": [],
   "source": [
    "%load_ext sql"
   ]
  },
  {
   "cell_type": "code",
   "execution_count": 2,
   "metadata": {
    "collapsed": false
   },
   "outputs": [
    {
     "data": {
      "text/plain": [
       "'Connected: None@None'"
      ]
     },
     "execution_count": 2,
     "metadata": {},
     "output_type": "execute_result"
    }
   ],
   "source": [
    "%sql sqlite://"
   ]
  },
  {
   "cell_type": "code",
   "execution_count": 4,
   "metadata": {
    "collapsed": false,
    "scrolled": true
   },
   "outputs": [
    {
     "name": "stdout",
     "output_type": "stream",
     "text": [
      "Done.\n",
      "Done.\n",
      "Done.\n",
      "1000 rows affected.\n",
      "Done.\n",
      "1000 rows affected.\n",
      "Done.\n",
      "1000 rows affected.\n",
      "Done.\n",
      "579 rows affected.\n",
      "Done.\n",
      "977 rows affected.\n",
      "Done.\n",
      "975 rows affected.\n",
      "Done.\n",
      "980 rows affected.\n",
      "Done.\n",
      "979 rows affected.\n",
      "Done.\n",
      "980 rows affected.\n",
      "Done.\n",
      "980 rows affected.\n",
      "Done.\n",
      "979 rows affected.\n",
      "Done.\n",
      "980 rows affected.\n",
      "Done.\n",
      "975 rows affected.\n",
      "Done.\n",
      "980 rows affected.\n",
      "Done.\n",
      "976 rows affected.\n",
      "Done.\n",
      "980 rows affected.\n",
      "Done.\n",
      "973 rows affected.\n",
      "Done.\n",
      "975 rows affected.\n",
      "Done.\n",
      "979 rows affected.\n",
      "Done.\n"
     ]
    },
    {
     "data": {
      "text/html": [
       "<table>\n",
       "    <tr>\n",
       "        <th>keyword</th>\n",
       "        <th>location</th>\n",
       "        <th>link</th>\n",
       "        <th>post_text</th>\n",
       "    </tr>\n",
       "    <tr>\n",
       "        <td>Software-Development</td>\n",
       "        <td>Toronto,-Ontario</td>\n",
       "        <td>http://jobview.monster.ca/software-development-manager-job-toronto-on-ca-179262760.aspx?mescoid=1100011001001&amp;jobPosition=1</td>\n",
       "        <td>monster,notified,distributed,free,quality,drive,by,technologies,position.,developer,this,nodejs,that,discipline,combined,mongo,technical,strategic,mentoring,less,new,dependencies,market,no.,authorized,leadership,productivity,apply,track,job.,understanding,sprint,both,experience,using,fosters,easily,experienced,planning,estimating,get,plus,angularjs,worldwide,in,environment.,pluses,guide,structures,main,at,provide,lifecycle,privacy,flexible,of,hide,addressed,name,posted,used,s,jira,standards,repeatable,content,tier,find,and,inc,enforce,db,key,product,previous,timely,achieve,architecture,eligible,tools.,monster.com,level,close,fri,type,coaching,policy,cassandra,criteria,sustainable,applications,view,from,industries,program,addresses,selected,couch,innovative,submit,knowledge,java,code,development,production,offering,software,computer,use,reviews,position,create,through,managed,continuing,ios,kitchen,e.g.,company,ensure,propose,toronto,team,features,providing,passionate,updated,not,functional,modern,considered,about,engineer,agile,any,communication,complex,edge,kanban,marketing,improvements,fashion,nosql,bridges,technology,axosoft,canada.,terms,packaging,enhance,json,applicants,delivery,techniques,their,b,define,entire,who,regular,players,breakdown,fast,ll,the,.,android,v,you,while,be,processes,mitigated,javascript,strong,employee,working,search,subscribe,pop,oral,starter,approaches,devops,today,with,feedback,skills.,multi,patents,agree,budget,similar,delivered,mobile,digital,scrum,manage,improve,stocked,to,address,infrastructureexperience,33,info,my,ideal,copyright,members,rest,business,web,xprogramming,career,are,all,versionone,incidents,design,excellent,a,transcoding,services,location,cohesive,or,they,champion,job,role,prior,must,our,stated,cloud,summary,full,understand,considerations,goals,non,skip,has,environment,performance,record,cutting,necessary,manager,maintaining,build,encryption,january,yearly,skills,include,support,teams,site,last,want,exposure,save,conduct,on,report,application,friendly,methodologies,task,associated,like,databases,email,process,organization,self,guiding,deliverables,mail,group,such,reference,as,will,cookies.,progressive,breakfast,paced,for,3,candidate,also,deliver,deliverablesrequired,xml,more,can,across,output,only,video,tdd,work,ensuring,tal,creativity,relational,management,minimum,cross,note,proven,hiring,years,environment.perks,fully,refine,within,time,snacks,jobs,written,u.s.,including,love,ui,tools,sr.,vibrant,meeting,efficiency,hoursin</td>\n",
       "    </tr>\n",
       "    <tr>\n",
       "        <td>Software-Development</td>\n",
       "        <td>Toronto,-Ontario</td>\n",
       "        <td>http://jobview.monster.ca/software-development-manager-job-toronto-on-ca-179115106.aspx?mescoid=1100011001001&amp;jobPosition=1</td>\n",
       "        <td>monster,distributed,around,versiononeprevious,quality,drive,by,technologies,this,that,discipline,combined,mongo,technical,strategic,days,less,new,operators,dependencies,market,lifecycle.propose,commercial,no.,leadership,productivity,apply,track,job.,understanding,sprint,both,using,experience,fosters,easily,providers,planning,estimating,get,worldwide,videos,in,details,environment.,pluses,guide,structures,main,at,provide,lifecycle,privacy,flexible,benefits,of,hide,tv,addressed,streaming,high,name,used,s,jira,offeringcreate,standards,repeatable,content,grow,tier,plusknowledge,find,and,enforce,db,recognized,key,product,achieve,timedo,timely,architecture,level,bay,monster.com,close,type,coaching,policy,cassandra,view,sustainable,applications,addresses,industries,selected,couch,3k,innovative,submit,knowledge,java,senior,development,production,software,computer,use,reviews,create,through,managed,continuing,your,ios,e.g.,company,ensure,toronto,team,features,providing,passionate,not,functional,modern,about,agile,communication,helena,m,complex,kanban,tools.create,improvements,fashion,nosql,bridges,axosoft,terms,packaging,information,enhance,json,delivery,techniques,their,b,entire,who,regular,softwareconduct,breakdown,companies,players,fast,the,.,android,v,you,while,be,processes,mitigated,javascript,strong,employee,working,search,subscribe,oral,way,starter,approaches,devops,feedback,with,multi,patents,agree,mobile,similar,delivered,scrum,manage,improve,info,to,address,my,copyright,members,rest,business,web,xprogramming,career,all,futuretek,are,watching,offerings,incidents,design,excellent,a,infrastructure,world.in,transcoding,location,services,street,power,cohesive,or,fastest,they,champion,job,role,xmlexcellent,budgetdefine,prior,stated,cloud,summary,staff,full,understand,considerations,salary,but,skip,would,environment,performance,record,goalsexposure,r,necessary,manager,maintaining,build,encryption,skills.a,yearly,teams,skills,include,support,mentoringfull,exposure,posted,want,save,ago,on,necessary.,report,application,friendly,methodologies,task,associated,like,databases,email,process,organization,self,guiding,deliverables,mail,such,as,will,cookies.,deliver,for,performance.provide,also,deliverablesrequired,paced,..,can,more,across,output,3,only,video,tdd,technologiesfamiliarity,supervisor,work,ensuring,creativity,contact,relational,audio,minimum,cross,management,proven,years,refine,note,within,bonus,time,etc..,jobs,written,suite,u.s.,most,including,love,ui,tools,vibrant,ricci,efficiency,phone</td>\n",
       "    </tr>\n",
       "    <tr>\n",
       "        <td>Software-Development</td>\n",
       "        <td>Toronto,-Ontario</td>\n",
       "        <td>http://jobview.monster.ca/mdm-software-development-delivery-intern-markham-on-job-markham-on-ca-178593691.aspx?mescoid=1500127001001&amp;jobPosition=1</td>\n",
       "        <td>monster,unofficial,if,next,let,technologies,this,party,opportunities,follow,assetexperience,new,which,increasing,various,apply,dynamic,emails,environmentproven,at,share,mandatory,analytics,product.feature,s,jira,email.,motivated,toolsqualificationssome,activities.working,j,view,time.by,industries,consent,java,knowledge,administrationdatabase,part,senior,development,software,affect,your,company,providing,resume,results,having,resources,growth,globally,3rd,level.,enhance,businesses,balanceaccess,other,unix,the,contacting,assetjenkins,customization.deploy,rational,upcoming,with,cover,agree,similar,print,extensible,address,career,intern,all,apos,assetibm,enterprise,location,services,may,company.,companyyour,must,summary,temporary,they,initiatives,description,but,resolution.tools,would,systems.,letter,assetunderstanding,site,completed.,operations,on,report,application,like,even,releases,ibms,systems,as,phone,can,xml,demanding,projects,take,following,shell,management,sent,years,come,written,directly,most,op,tools,analysts,reference,skill,applying,around,tools.tools,transcripts.,activities,developer,open,months,technical,an,continue,collaboration,manual,engagement,github,ontario,developers,overall,executive,windows,completed,interns,and,invalid,taken,db,product,join,rewardinga,shared,research,university,access,completion,code,aix,solaris,skillsshell,expertise,ensure,language,house,deployment.product,processdebugging,test,monster.ca,canada,upon,testing.,integrated,delivery,consulting,role.,solutions,technologywork,scripts,scripting,enrollment,you,mobile,.enter,improve,members,are,official,descriptionibm,a,or,utilizing,well,our,cloud,canadian,full,solving,non,dress,recruiter,future,addition,skills,events.,problems,unit,programming,environments,bring,cases,big,for,also,examples,only,receive,some,area,testing.product,script,armonk,offers,networking,time,diploma,leveraging,including,unattended,looking,sql,talented,skillsco,co,study,that,it,countries,coverage,d...,cycleproven,below,have,first,privacy,flexible,name,master,comply,level,iterative,products.,regarding,advertising,program,me,present,enter,governments,use,position,continuing,social,team,not,oriented,communication,edge,revoke,responsibilities,server,solve,terms,information,world,their,skillsproven,advanced,who,program.,sporting,be,employee,interactive,challenging,degree,community,focused,business,audiencesproven,framework.develop,investigate,hours,processes.performance,automated,headquartered,conditions,mentorship,online,product.defect,blue,support,last,mdm,customers,ability,eclipsewebsphere,back,profits.today,email,york.,term.,college,cookies.,employer,deliver,than,corresponding,more,work,document,contact,relational,operating,tasks,during,problem,enable,time.,type,architect,tools.test,term,clients,large,methodology,by,agreeing,provided,commencing,linux,returning,matrices,skillsexperience,selenium,analysis,understanding,both,using,experience,get,qa,in,data,linuxdevelopment,provide,of,send,five,markham,content,thank,registered,maintenance,resides,people,security.,insights,policy,we,ides,browse,retains,skillsprogramming,casual,interest,about,is,any,testing,employment,internship,technology,limited,requirement,define,.,ops,while,processes,set,working,markup,search,implementation,object,approaches,verbal,plans,news.,to,www.ibm.com,these,design,job,role,subject,worldwide.,students,technically,sqlintegrated,what,ibmers,skip,performance,cutting,attracts,save,include,exposure,database,oracle,epic,advantage,such,pathways,assetproven,will,3,help,automation,ibm,cases.executing,website.,life,minimum,student,provides,jobs</td>\n",
       "    </tr>\n",
       "    <tr>\n",
       "        <td>Software-Development</td>\n",
       "        <td>Toronto,-Ontario</td>\n",
       "        <td>http://jobview.monster.ca/software-development-engineer-ii-job-toronto-on-ca-163316063.aspx?mescoid=1500127001001&amp;jobPosition=1</td>\n",
       "        <td>monster,if,applying,distributed,serve,large,let,www.amazon.jobs,users,drive,by,restricted,agreeing,brightest.,th,requirements,this,priorities,electrical,follow,that,it,robust,technical,between,signing,yr,continue,global,positions,field,leadership,apply,scale,employees,experienced,emails,using,experience,qualificationspreferred,recruit,planning,get,below,year,income,engineering,plus,in,first,qualifications,project,at,lifecycle,provide,privacy,benefits,qualificationsbasic,of,related,designing,ontario,send,name,throughout,master,urlwww.amazon.co.uk,s,gather,c++,abovecontact,off,comply,email.,learn,thank,and,experiencebenefits,invalid,engineers,eligible,level,titlesoftware,over,architecture,specifications,regarding,people,developing,j,view,policy,time.by,advertising,ii,shared,from,we,applications,conception,consent,me,commensurate,maintenance.,java,health,code,development,enter,goals.salary,software,world.,computer,use,reviews,position,your,continuing,interest,company,into,ensure,might,toronto,offered,providing,resume,results,not,amazon,functional,engineer,about,any,fulfillment,oriented,m,resources,testing,complex,https,monster.ca,companyreport,backgrounds,revoke,canada,technology,involve,terms,information,range,delivery,issues,solutions,applicants,their,inc.,who,jobsaveemailall,types,compatible,other,amzn,the,external,contacting,you,while,be,employee,ii.enter,svcs,search,scalable,implementation,documentation,object,lead,with,multi,feedback,experience.,plans,agree,news.,similar,scalability.,savings,degree,please,status,manage,c++.,to,address,33,tiered,business,these,career,based,two,are,all,members.,design,family,bonuses,a,translate,visit,location,services,may,hires,companyyour,or,java.preferred,category,well,protection,they,must,job,description,subject,our,internal,full,supportable,meet,non,milestones,skip,units.,conditions,performance,multiple,recruiter,boulevard,manager,build,systems.,bremner,include,site,last,completed.,integration,floor,end,on,occupation,company.following,application,...,programming,customers,paid,like,back,email,even,stockbasic,vary,systems,as,will,cookies.,best,employer,for,also,can,phone,scoping,stock,care,more,receive,projects,work,following,contact,website.,management,sent,accept,years,come,offers,time,provides,one,jobs,math,bachelor,directly,science,schedules,including,c,tools,time.,friend,reference,aspects</td>\n",
       "    </tr>\n",
       "    <tr>\n",
       "        <td>Software-Development</td>\n",
       "        <td>Toronto,-Ontario</td>\n",
       "        <td>http://jobview.monster.ca/software-development-manager-iii-job-toronto-on-ca-178335688.aspx?mescoid=1100011001001&amp;jobPosition=1</td>\n",
       "        <td>monster,if,next,let,www.amazon.jobs,this,opportunities,leading,follow,new,various,dynamic,apply,emails,hands,operational,at,high,c++,above,s,email.,learn,engineers,over,excellence,optimize,developing,j,view,time.by,commensurate,consent,health,development,software,operations.,through,your,company,providing,resume,leader,leaders,results,onto,fulfillment,resources,complex,develop,candidates,interface,inc.address,them,jobsaveemailall,businesses,fast,the,service,contacting,day,strong,with,agree,similar,address,based,career,sdes,all,family,excellent,location,services,may,companyyour,duties,java.preferred,they,must,description,units.,significant,site,completed.,floor,on,occupation,application,ambiguous,like,even,challenges,highly,smart,generation,systems,as,paced,phone,can,stock,take,following,handling,management,sent,years,come,bonusesemployee,directly,tools,i...,reference,c,events,applying,successful,restricted,electrical,signing,technical,an,continue,local,then,scale,continuous,recruit,year,comprised,should,environment.,project,benefits,related,levels,offshore.,ontario,urlwww.amazon.co.uk,grow,and,invalid,eligible,titlesoftware,class,shared,from,super,code,amazon,m,mission,monster.ca,launch,canada,involve,range,applicants,platforms,you,scalable,lead,persisted,could,mentor,involved,are,members.,driven,bonuses,a,hires,or,category,available,our,full,solving,recruiter,boulevard,manager,build,bremner,skills,minimizing,events.,problems,programming,learning,rapid,best,for,also,critical,candidate,receive,offers,within,time,including,looking,distributed,talented,offsigning,that,it,marketplace,below,have,first,qualifications,privacy,effort,name,master,comply,increasingly,regarding,engineering,advertising,me,enter,amazon.,use,position,configuration,star,continuing,into,might,toronto,team,metrics,higher,not,oriented,communication,https,established,backgrounds,revoke,responsibilities,terms,information,world,customer,their,growing,who,be,employee,delivers,multi,degree,so,digital,business,two,several,great,visit,iii.enter,plansincome,conditions,last,ability,back,email,stockbasic,en,vary,cookies.,employer,more,contact,needs,one,time.,serve,large,by,agreeing,brightest.,th,robust,yr,global,positions,leadership,field,employees,both,using,experience,get,plus,in,iii,provide,lifecycle,designing,of,send,thank,achieve,enabling,people,policy,we,applications,play,retail,world.,computer,interest,offered,about,is,any,background,span,companyreport,capable,realms.,types,sde,performing,motivation,while,processes,art,search,object,approaches,experience.,news.,please,status,vision,to,thought,tiered,iterations,these,web,design,translate,cultivate,monitor,job,role,caresavings,subject,here,establish,salary,meet,protectionpaid,skip,teams,include,state,company.following,platform,self,will,3,website.,accept,provides,jobs,math,bachelor,science,friend,financial,volume,aspects</td>\n",
       "    </tr>\n",
       "</table>"
      ],
      "text/plain": [
       "[('Software-Development', 'Toronto,-Ontario', 'http://jobview.monster.ca/software-development-manager-job-toronto-on-ca-179262760.aspx?mescoid=1100011001001&jobPosition=1', 'monster,notified,distributed,free,quality,drive,by,technologies,position.,developer,this,nodejs,that,discipline,combined,mongo,technical,strategic,mentoring,less,new,dependencies,market,no.,authorized,leadership,productivity,apply,track,job.,understanding,sprint,both,experience,using,fosters,easily,experienced,planning,estimating,get,plus,angularjs,worldwide,in,environment.,pluses,guide,structures,main,at,provide,lifecycle,privacy,flexible,of,hide,addressed,name,posted,used,s,jira,standards,repeatable,content,tier,find,and,inc,enforce,db,key,product,previous,timely,achieve,architecture,eligible,tools.,monster.com,level,close,fri,type,coaching,policy,cassandra,criteria,sustainable,applications,view,from,industries,program,addresses,selected,couch,innovative,submit,knowledge,java,code,development,production,offering,software,computer,use,reviews,position,create,through,managed,continuing,ios,kitchen,e.g.,company,ensure,propose,toronto,team,features,providing,passionate,updated,not,functional,modern,considered,about,engineer,agile,any,communication,complex,edge,kanban,marketing,improvements,fashion,nosql,bridges,technology,axosoft,canada.,terms,packaging,enhance,json,applicants,delivery,techniques,their,b,define,entire,who,regular,players,breakdown,fast,ll,the,.,android,v,you,while,be,processes,mitigated,javascript,strong,employee,working,search,subscribe,pop,oral,starter,approaches,devops,today,with,feedback,skills.,multi,patents,agree,budget,similar,delivered,mobile,digital,scrum,manage,improve,stocked,to,address,infrastructureexperience,33,info,my,ideal,copyright,members,rest,business,web,xprogramming,career,are,all,versionone,incidents,design,excellent,a,transcoding,services,location,cohesive,or,they,champion,job,role,prior,must,our,stated,cloud,summary,full,understand,considerations,goals,non,skip,has,environment,performance,record,cutting,necessary,manager,maintaining,build,encryption,january,yearly,skills,include,support,teams,site,last,want,exposure,save,conduct,on,report,application,friendly,methodologies,task,associated,like,databases,email,process,organization,self,guiding,deliverables,mail,group,such,reference,as,will,cookies.,progressive,breakfast,paced,for,3,candidate,also,deliver,deliverablesrequired,xml,more,can,across,output,only,video,tdd,work,ensuring,tal,creativity,relational,management,minimum,cross,note,proven,hiring,years,environment.perks,fully,refine,within,time,snacks,jobs,written,u.s.,including,love,ui,tools,sr.,vibrant,meeting,efficiency,hoursin'),\n",
       " ('Software-Development', 'Toronto,-Ontario', 'http://jobview.monster.ca/software-development-manager-job-toronto-on-ca-179115106.aspx?mescoid=1100011001001&jobPosition=1', 'monster,distributed,around,versiononeprevious,quality,drive,by,technologies,this,that,discipline,combined,mongo,technical,strategic,days,less,new,operators,dependencies,market,lifecycle.propose,commercial,no.,leadership,productivity,apply,track,job.,understanding,sprint,both,using,experience,fosters,easily,providers,planning,estimating,get,worldwide,videos,in,details,environment.,pluses,guide,structures,main,at,provide,lifecycle,privacy,flexible,benefits,of,hide,tv,addressed,streaming,high,name,used,s,jira,offeringcreate,standards,repeatable,content,grow,tier,plusknowledge,find,and,enforce,db,recognized,key,product,achieve,timedo,timely,architecture,level,bay,monster.com,close,type,coaching,policy,cassandra,view,sustainable,applications,addresses,industries,selected,couch,3k,innovative,submit,knowledge,java,senior,development,production,software,computer,use,reviews,create,through,managed,continuing,your,ios,e.g.,company,ensure,toronto,team,features,providing,passionate,not,functional,modern,about,agile,communication,helena,m,complex,kanban,tools.create,improvements,fashion,nosql,bridges,axosoft,terms,packaging,information,enhance,json,delivery,techniques,their,b,entire,who,regular,softwareconduct,breakdown,companies,players,fast,the,.,android,v,you,while,be,processes,mitigated,javascript,strong,employee,working,search,subscribe,oral,way,starter,approaches,devops,feedback,with,multi,patents,agree,mobile,similar,delivered,scrum,manage,improve,info,to,address,my,copyright,members,rest,business,web,xprogramming,career,all,futuretek,are,watching,offerings,incidents,design,excellent,a,infrastructure,world.in,transcoding,location,services,street,power,cohesive,or,fastest,they,champion,job,role,xmlexcellent,budgetdefine,prior,stated,cloud,summary,staff,full,understand,considerations,salary,but,skip,would,environment,performance,record,goalsexposure,r,necessary,manager,maintaining,build,encryption,skills.a,yearly,teams,skills,include,support,mentoringfull,exposure,posted,want,save,ago,on,necessary.,report,application,friendly,methodologies,task,associated,like,databases,email,process,organization,self,guiding,deliverables,mail,such,as,will,cookies.,deliver,for,performance.provide,also,deliverablesrequired,paced,..,can,more,across,output,3,only,video,tdd,technologiesfamiliarity,supervisor,work,ensuring,creativity,contact,relational,audio,minimum,cross,management,proven,years,refine,note,within,bonus,time,etc..,jobs,written,suite,u.s.,most,including,love,ui,tools,vibrant,ricci,efficiency,phone'),\n",
       " ('Software-Development', 'Toronto,-Ontario', 'http://jobview.monster.ca/mdm-software-development-delivery-intern-markham-on-job-markham-on-ca-178593691.aspx?mescoid=1500127001001&jobPosition=1', 'monster,unofficial,if,next,let,technologies,this,party,opportunities,follow,assetexperience,new,which,increasing,various,apply,dynamic,emails,environmentproven,at,share,mandatory,analytics,product.feature,s,jira,email.,motivated,toolsqualificationssome,activities.working,j,view,time.by,industries,consent,java,knowledge,administrationdatabase,part,senior,development,software,affect,your,company,providing,resume,results,having,resources,growth,globally,3rd,level.,enhance,businesses,balanceaccess,other,unix,the,contacting,assetjenkins,customization.deploy,rational,upcoming,with,cover,agree,similar,print,extensible,address,career,intern,all,apos,assetibm,enterprise,location,services,may,company.,companyyour,must,summary,temporary,they,initiatives,description,but,resolution.tools,would,systems.,letter,assetunderstanding,site,completed.,operations,on,report,application,like,even,releases,ibms,systems,as,phone,can,xml,demanding,projects,take,following,shell,management,sent,years,come,written,directly,most,op,tools,analysts,reference,skill,applying,around,tools.tools,transcripts.,activities,developer,open,months,technical,an,continue,collaboration,manual,engagement,github,ontario,developers,overall,executive,windows,completed,interns,and,invalid,taken,db,product,join,rewardinga,shared,research,university,access,completion,code,aix,solaris,skillsshell,expertise,ensure,language,house,deployment.product,processdebugging,test,monster.ca,canada,upon,testing.,integrated,delivery,consulting,role.,solutions,technologywork,scripts,scripting,enrollment,you,mobile,.enter,improve,members,are,official,descriptionibm,a,or,utilizing,well,our,cloud,canadian,full,solving,non,dress,recruiter,future,addition,skills,events.,problems,unit,programming,environments,bring,cases,big,for,also,examples,only,receive,some,area,testing.product,script,armonk,offers,networking,time,diploma,leveraging,including,unattended,looking,sql,talented,skillsco,co,study,that,it,countries,coverage,d...,cycleproven,below,have,first,privacy,flexible,name,master,comply,level,iterative,products.,regarding,advertising,program,me,present,enter,governments,use,position,continuing,social,team,not,oriented,communication,edge,revoke,responsibilities,server,solve,terms,information,world,their,skillsproven,advanced,who,program.,sporting,be,employee,interactive,challenging,degree,community,focused,business,audiencesproven,framework.develop,investigate,hours,processes.performance,automated,headquartered,conditions,mentorship,online,product.defect,blue,support,last,mdm,customers,ability,eclipsewebsphere,back,profits.today,email,york.,term.,college,cookies.,employer,deliver,than,corresponding,more,work,document,contact,relational,operating,tasks,during,problem,enable,time.,type,architect,tools.test,term,clients,large,methodology,by,agreeing,provided,commencing,linux,returning,matrices,skillsexperience,selenium,analysis,understanding,both,using,experience,get,qa,in,data,linuxdevelopment,provide,of,send,five,markham,content,thank,registered,maintenance,resides,people,security.,insights,policy,we,ides,browse,retains,skillsprogramming,casual,interest,about,is,any,testing,employment,internship,technology,limited,requirement,define,.,ops,while,processes,set,working,markup,search,implementation,object,approaches,verbal,plans,news.,to,www.ibm.com,these,design,job,role,subject,worldwide.,students,technically,sqlintegrated,what,ibmers,skip,performance,cutting,attracts,save,include,exposure,database,oracle,epic,advantage,such,pathways,assetproven,will,3,help,automation,ibm,cases.executing,website.,life,minimum,student,provides,jobs'),\n",
       " ('Software-Development', 'Toronto,-Ontario', 'http://jobview.monster.ca/software-development-engineer-ii-job-toronto-on-ca-163316063.aspx?mescoid=1500127001001&jobPosition=1', 'monster,if,applying,distributed,serve,large,let,www.amazon.jobs,users,drive,by,restricted,agreeing,brightest.,th,requirements,this,priorities,electrical,follow,that,it,robust,technical,between,signing,yr,continue,global,positions,field,leadership,apply,scale,employees,experienced,emails,using,experience,qualificationspreferred,recruit,planning,get,below,year,income,engineering,plus,in,first,qualifications,project,at,lifecycle,provide,privacy,benefits,qualificationsbasic,of,related,designing,ontario,send,name,throughout,master,urlwww.amazon.co.uk,s,gather,c++,abovecontact,off,comply,email.,learn,thank,and,experiencebenefits,invalid,engineers,eligible,level,titlesoftware,over,architecture,specifications,regarding,people,developing,j,view,policy,time.by,advertising,ii,shared,from,we,applications,conception,consent,me,commensurate,maintenance.,java,health,code,development,enter,goals.salary,software,world.,computer,use,reviews,position,your,continuing,interest,company,into,ensure,might,toronto,offered,providing,resume,results,not,amazon,functional,engineer,about,any,fulfillment,oriented,m,resources,testing,complex,https,monster.ca,companyreport,backgrounds,revoke,canada,technology,involve,terms,information,range,delivery,issues,solutions,applicants,their,inc.,who,jobsaveemailall,types,compatible,other,amzn,the,external,contacting,you,while,be,employee,ii.enter,svcs,search,scalable,implementation,documentation,object,lead,with,multi,feedback,experience.,plans,agree,news.,similar,scalability.,savings,degree,please,status,manage,c++.,to,address,33,tiered,business,these,career,based,two,are,all,members.,design,family,bonuses,a,translate,visit,location,services,may,hires,companyyour,or,java.preferred,category,well,protection,they,must,job,description,subject,our,internal,full,supportable,meet,non,milestones,skip,units.,conditions,performance,multiple,recruiter,boulevard,manager,build,systems.,bremner,include,site,last,completed.,integration,floor,end,on,occupation,company.following,application,...,programming,customers,paid,like,back,email,even,stockbasic,vary,systems,as,will,cookies.,best,employer,for,also,can,phone,scoping,stock,care,more,receive,projects,work,following,contact,website.,management,sent,accept,years,come,offers,time,provides,one,jobs,math,bachelor,directly,science,schedules,including,c,tools,time.,friend,reference,aspects'),\n",
       " ('Software-Development', 'Toronto,-Ontario', 'http://jobview.monster.ca/software-development-manager-iii-job-toronto-on-ca-178335688.aspx?mescoid=1100011001001&jobPosition=1', 'monster,if,next,let,www.amazon.jobs,this,opportunities,leading,follow,new,various,dynamic,apply,emails,hands,operational,at,high,c++,above,s,email.,learn,engineers,over,excellence,optimize,developing,j,view,time.by,commensurate,consent,health,development,software,operations.,through,your,company,providing,resume,leader,leaders,results,onto,fulfillment,resources,complex,develop,candidates,interface,inc.address,them,jobsaveemailall,businesses,fast,the,service,contacting,day,strong,with,agree,similar,address,based,career,sdes,all,family,excellent,location,services,may,companyyour,duties,java.preferred,they,must,description,units.,significant,site,completed.,floor,on,occupation,application,ambiguous,like,even,challenges,highly,smart,generation,systems,as,paced,phone,can,stock,take,following,handling,management,sent,years,come,bonusesemployee,directly,tools,i...,reference,c,events,applying,successful,restricted,electrical,signing,technical,an,continue,local,then,scale,continuous,recruit,year,comprised,should,environment.,project,benefits,related,levels,offshore.,ontario,urlwww.amazon.co.uk,grow,and,invalid,eligible,titlesoftware,class,shared,from,super,code,amazon,m,mission,monster.ca,launch,canada,involve,range,applicants,platforms,you,scalable,lead,persisted,could,mentor,involved,are,members.,driven,bonuses,a,hires,or,category,available,our,full,solving,recruiter,boulevard,manager,build,bremner,skills,minimizing,events.,problems,programming,learning,rapid,best,for,also,critical,candidate,receive,offers,within,time,including,looking,distributed,talented,offsigning,that,it,marketplace,below,have,first,qualifications,privacy,effort,name,master,comply,increasingly,regarding,engineering,advertising,me,enter,amazon.,use,position,configuration,star,continuing,into,might,toronto,team,metrics,higher,not,oriented,communication,https,established,backgrounds,revoke,responsibilities,terms,information,world,customer,their,growing,who,be,employee,delivers,multi,degree,so,digital,business,two,several,great,visit,iii.enter,plansincome,conditions,last,ability,back,email,stockbasic,en,vary,cookies.,employer,more,contact,needs,one,time.,serve,large,by,agreeing,brightest.,th,robust,yr,global,positions,leadership,field,employees,both,using,experience,get,plus,in,iii,provide,lifecycle,designing,of,send,thank,achieve,enabling,people,policy,we,applications,play,retail,world.,computer,interest,offered,about,is,any,background,span,companyreport,capable,realms.,types,sde,performing,motivation,while,processes,art,search,object,approaches,experience.,news.,please,status,vision,to,thought,tiered,iterations,these,web,design,translate,cultivate,monitor,job,role,caresavings,subject,here,establish,salary,meet,protectionpaid,skip,teams,include,state,company.following,platform,self,will,3,website.,accept,provides,jobs,math,bachelor,science,friend,financial,volume,aspects')]"
      ]
     },
     "execution_count": 4,
     "metadata": {},
     "output_type": "execute_result"
    }
   ],
   "source": [
    "## Load csv files into SQL via pandas ##\n",
    "import pandas as pd\n",
    "location_list=[\"Toronto_ON\", \"Montreal_QC\", \"Vancouver_BC\", \"Waterloo_ON\", \"New-York_NY\", \"Boston_MA\", \"Washington_DC\", \n",
    "               \"Seattle_WA\", \"San-Francisco_CA\", \"Austin_TX\", \"San-Jose_CA\", \"Raleigh_NC\", \"Houston_TX\", \"Portland_OR\", \n",
    "               \"Atlanta_GA\", \"San-Diego_CA\", \"Denver_CO\", \"Minneapolis_MN\", \"Saint-Louis_MO\"]\n",
    "%sql DROP TABLE IF EXISTS ALLPOST\n",
    "%sql CREATE TABLE ALLPOST (keyword varchar, location varchar, link varchar, post_text varchar)\n",
    "for location in location_list:\n",
    "    df = pd.read_csv(\"D:\\monster_scrapingdata\\softdev_\" + location + \"_20170116.csv\", sep='\\t', header=0, index_col=0)\n",
    "    %sql DROP TABLE IF EXISTS df\n",
    "    %sql PERSIST df\n",
    "    %sql INSERT INTO ALLPOST SELECT keyword, location, link, post_text FROM df "
   ]
  },
  {
   "cell_type": "code",
   "execution_count": 5,
   "metadata": {
    "collapsed": false
   },
   "outputs": [
    {
     "name": "stdout",
     "output_type": "stream",
     "text": [
      "Done.\n"
     ]
    },
    {
     "data": {
      "text/html": [
       "<table>\n",
       "    <tr>\n",
       "        <th>COUNT(*)</th>\n",
       "    </tr>\n",
       "    <tr>\n",
       "        <td>18247</td>\n",
       "    </tr>\n",
       "</table>"
      ],
      "text/plain": [
       "[(18247,)]"
      ]
     },
     "execution_count": 5,
     "metadata": {},
     "output_type": "execute_result"
    }
   ],
   "source": [
    "%sql SELECT COUNT(*) FROM ALLPOST"
   ]
  },
  {
   "cell_type": "code",
   "execution_count": 118,
   "metadata": {
    "collapsed": false
   },
   "outputs": [
    {
     "name": "stdout",
     "output_type": "stream",
     "text": [
      "Done.\n"
     ]
    },
    {
     "data": {
      "text/html": [
       "<table>\n",
       "    <tr>\n",
       "        <th>Count(*)</th>\n",
       "    </tr>\n",
       "    <tr>\n",
       "        <td>299</td>\n",
       "    </tr>\n",
       "</table>"
      ],
      "text/plain": [
       "[(299,)]"
      ]
     },
     "execution_count": 118,
     "metadata": {},
     "output_type": "execute_result"
    }
   ],
   "source": [
    "%sql SELECT Count(*) FROM ALLPOST WHERE location = \"Toronto_ON\" AND (post_text LIKE \"%,c,%\" OR post_text LIKE \"c,%\" OR post_text LIKE \"%,c\")"
   ]
  },
  {
   "cell_type": "code",
   "execution_count": null,
   "metadata": {
    "collapsed": true
   },
   "outputs": [],
   "source": [
    "import pandas as pd\n",
    "import seaborn as sns\n",
    "import matplotlib.pyplot as plt\n",
    "%matplotlib inline"
   ]
  },
  {
   "cell_type": "code",
   "execution_count": 115,
   "metadata": {
    "collapsed": true
   },
   "outputs": [],
   "source": [
    "\n",
    "def skillchart(dic, title_city):\n",
    "    df=pd.DataFrame.from_dict(dic, orient='index', dtype=None)\n",
    "    df.columns=['Percentage']\n",
    "    df.sort_values(by='Percentage', ascending=False, inplace=True)\n",
    "    tofig=df[0:20].plot.bar(figsize=(15,8), fontsize=16, color='#A3E4D7')\n",
    "    tofig.set_title('Key Skills in ' + title_city, fontsize=16, fontweight='bold')"
   ]
  },
  {
   "cell_type": "code",
   "execution_count": 137,
   "metadata": {
    "collapsed": false
   },
   "outputs": [
    {
     "data": {
      "image/png": "[encoded data removed]",
      "text/plain": [
       "<matplotlib.figure.Figure at 0x274932a1fd0>"
      ]
     },
     "metadata": {},
     "output_type": "display_data"
    }
   ],
   "source": [
    "skillchart(skillctdict, \"New York\")"
   ]
  },
  {
   "cell_type": "code",
   "execution_count": null,
   "metadata": {
    "collapsed": true
   },
   "outputs": [],
   "source": []
  },
  {
   "cell_type": "code",
   "execution_count": 136,
   "metadata": {
    "collapsed": false
   },
   "outputs": [
    {
     "name": "stdout",
     "output_type": "stream",
     "text": [
      "Done.\n",
      "Done.\n",
      "Done.\n",
      "Done.\n",
      "Done.\n",
      "Done.\n",
      "Done.\n",
      "Done.\n",
      "Done.\n",
      "Done.\n",
      "Done.\n",
      "Done.\n",
      "Done.\n",
      "Done.\n",
      "Done.\n",
      "Done.\n",
      "Done.\n",
      "Done.\n",
      "Done.\n",
      "Done.\n",
      "Done.\n",
      "Done.\n",
      "Done.\n",
      "Done.\n",
      "Done.\n",
      "Done.\n",
      "Done.\n",
      "Done.\n",
      "Done.\n",
      "Done.\n",
      "Done.\n",
      "Done.\n",
      "Done.\n",
      "Done.\n",
      "Done.\n",
      "Done.\n",
      "Done.\n",
      "Done.\n",
      "Done.\n",
      "Done.\n",
      "Done.\n",
      "Done.\n",
      "Done.\n",
      "Done.\n",
      "Done.\n",
      "Done.\n",
      "Done.\n",
      "Done.\n",
      "Done.\n",
      "Done.\n",
      "Done.\n",
      "Done.\n",
      "Done.\n",
      "Done.\n",
      "Done.\n",
      "Done.\n",
      "Done.\n",
      "Done.\n",
      "Done.\n",
      "Done.\n",
      "Done.\n",
      "Done.\n",
      "Done.\n",
      "Done.\n",
      "Done.\n",
      "Done.\n",
      "Done.\n",
      "Done.\n",
      "Done.\n",
      "Done.\n",
      "Done.\n",
      "Done.\n",
      "Done.\n",
      "Done.\n",
      "Done.\n",
      "Done.\n",
      "Done.\n",
      "Done.\n",
      "Done.\n",
      "Done.\n",
      "Done.\n",
      "Done.\n",
      "Done.\n",
      "Done.\n",
      "Done.\n",
      "Done.\n",
      "Done.\n",
      "Done.\n",
      "Done.\n",
      "Done.\n",
      "Done.\n",
      "Done.\n",
      "Done.\n",
      "Done.\n",
      "Done.\n",
      "Done.\n",
      "Done.\n",
      "Done.\n",
      "Done.\n",
      "Done.\n",
      "Done.\n",
      "Done.\n",
      "Done.\n",
      "Done.\n",
      "Done.\n",
      "Done.\n",
      "Done.\n",
      "Done.\n",
      "Done.\n",
      "Done.\n",
      "Done.\n",
      "Done.\n",
      "Done.\n",
      "Done.\n",
      "Done.\n",
      "Done.\n",
      "Done.\n",
      "Done.\n",
      "Done.\n",
      "Done.\n",
      "Done.\n",
      "Done.\n"
     ]
    }
   ],
   "source": [
    "## Top Skills for a specific city ##\n",
    "skillctdict={}\n",
    "for tech in techlist:\n",
    "    acount=%sql SELECT Count(*) FROM ALLPOST WHERE location = \"New-York_NY\" AND (post_text LIKE \"%,$tech,%\" OR post_text LIKE \"$tech,%\" OR post_text LIKE \"%,$tech\")\n",
    "    citycount=%sql SELECT Count(*) FROM ALLPOST WHERE location = \"New-York_NY\"\n",
    "    skillctdict[tech]=acount[0][0]/citycount[0][0]    "
   ]
  },
  {
   "cell_type": "code",
   "execution_count": 99,
   "metadata": {
    "collapsed": true
   },
   "outputs": [],
   "source": [
    "\n",
    "def citychart(dic, tech_name):\n",
    "    df=pd.DataFrame.from_dict(dic, orient='index', dtype=None)\n",
    "    df.columns=['Percentage']\n",
    "    df.sort_values(by='Percentage', ascending=True, inplace=True)\n",
    "    tofig=df[0:20].plot.barh(figsize=(15,8), fontsize=16, color='orange')\n",
    "    tofig.set_title('Popular cities for' + tech_name, fontsize=16, fontweight='bold')"
   ]
  },
  {
   "cell_type": "code",
   "execution_count": 132,
   "metadata": {
    "collapsed": false
   },
   "outputs": [
    {
     "name": "stdout",
     "output_type": "stream",
     "text": [
      "Done.\n",
      "Done.\n",
      "Done.\n",
      "Done.\n",
      "Done.\n",
      "Done.\n",
      "Done.\n",
      "Done.\n",
      "Done.\n",
      "Done.\n",
      "Done.\n",
      "Done.\n",
      "Done.\n",
      "Done.\n",
      "Done.\n",
      "Done.\n",
      "Done.\n",
      "Done.\n",
      "Done.\n",
      "Done.\n",
      "Done.\n",
      "Done.\n",
      "Done.\n",
      "Done.\n",
      "Done.\n",
      "Done.\n",
      "Done.\n",
      "Done.\n",
      "Done.\n",
      "Done.\n",
      "Done.\n",
      "Done.\n",
      "Done.\n",
      "Done.\n",
      "Done.\n",
      "Done.\n",
      "Done.\n",
      "Done.\n"
     ]
    }
   ],
   "source": [
    "## City Ranking for a specific skill ##\n",
    "citydict={}\n",
    "for location in location_list:\n",
    "    acount=%sql SELECT COUNT(*) FROM ALLPOST WHERE location= :location AND instr(post_text, \",javascript,\") >0 \n",
    "    citycount=%sql SELECT COUNT(*) FROM ALLPOST WHERE location= :location\n",
    "    if citycount[0][0] != 0:\n",
    "        citydict[location]=acount[0][0]/citycount[0][0]"
   ]
  },
  {
   "cell_type": "code",
   "execution_count": 133,
   "metadata": {
    "collapsed": false
   },
   "outputs": [
    {
     "data": {
      "image/png": "[encoded data removed]",
      "text/plain": [
       "<matplotlib.figure.Figure at 0x274932ecc18>"
      ]
     },
     "metadata": {},
     "output_type": "display_data"
    }
   ],
   "source": [
    "citychart(citydict, \"javascript\")"
   ]
  },
  {
   "cell_type": "code",
   "execution_count": null,
   "metadata": {
    "collapsed": true
   },
   "outputs": [],
   "source": []
  }
 ],
 "metadata": {
  "anaconda-cloud": {},
  "kernelspec": {
   "display_name": "Python [Root]",
   "language": "python",
   "name": "Python [Root]"
  },
  "language_info": {
   "codemirror_mode": {
    "name": "ipython",
    "version": 3
   },
   "file_extension": ".py",
   "mimetype": "text/x-python",
   "name": "python",
   "nbconvert_exporter": "python",
   "pygments_lexer": "ipython3",
   "version": "3.5.2"
  }
 },
 "nbformat": 4,
 "nbformat_minor": 0
}
